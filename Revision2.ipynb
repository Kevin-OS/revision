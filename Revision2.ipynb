{
 "cells": [
  {
   "cell_type": "code",
   "execution_count": 4,
   "metadata": {
    "collapsed": false
   },
   "outputs": [
    {
     "name": "stdout",
     "output_type": "stream",
     "text": [
      "34\n",
      "34\n",
      "34\n"
     ]
    }
   ],
   "source": [
    "num = 34\n",
    "print(num) # there is a newline (\\n) at the end of each call to the print function\n",
    "print(num)\n",
    "print(num)"
   ]
  },
  {
   "cell_type": "code",
   "execution_count": 6,
   "metadata": {
    "collapsed": false
   },
   "outputs": [
    {
     "name": "stdout",
     "output_type": "stream",
     "text": [
      "34*34*34\n"
     ]
    }
   ],
   "source": [
    "#replacing the newline character (\\n) with a character specified using \"end =\"\n",
    "print(num, end = \"*\") # the * character specified replaces each newline character in this instance\n",
    "print(num, end = \"*\")\n",
    "print(num)"
   ]
  },
  {
   "cell_type": "code",
   "execution_count": 8,
   "metadata": {
    "collapsed": false
   },
   "outputs": [
    {
     "name": "stdout",
     "output_type": "stream",
     "text": [
      "3 * 4\n"
     ]
    },
    {
     "data": {
      "text/plain": [
       "12"
      ]
     },
     "execution_count": 8,
     "metadata": {},
     "output_type": "execute_result"
    }
   ],
   "source": [
    "# creating a string \"3 * 4\" and then using the eval() function to carry out that calculation\n",
    "some_text = \"3 * 4\"\n",
    "print(some_text)\n",
    "eval(some_text)"
   ]
  },
  {
   "cell_type": "code",
   "execution_count": 9,
   "metadata": {
    "collapsed": false
   },
   "outputs": [
    {
     "name": "stdout",
     "output_type": "stream",
     "text": [
      "Enter an expression: 12 * 34 + (3 * 7)\n"
     ]
    }
   ],
   "source": [
    "# user input with the input() function\n",
    "expression = input(\"Enter an expression: \")"
   ]
  },
  {
   "cell_type": "code",
   "execution_count": 10,
   "metadata": {
    "collapsed": false
   },
   "outputs": [
    {
     "name": "stdout",
     "output_type": "stream",
     "text": [
      "12 * 34 + (3 * 7)\n"
     ]
    }
   ],
   "source": [
    "print(expression)"
   ]
  },
  {
   "cell_type": "code",
   "execution_count": 12,
   "metadata": {
    "collapsed": false
   },
   "outputs": [
    {
     "data": {
      "text/plain": [
       "str"
      ]
     },
     "execution_count": 12,
     "metadata": {},
     "output_type": "execute_result"
    }
   ],
   "source": [
    "type(expression) # the type function tells us that the variable expression is a string"
   ]
  },
  {
   "cell_type": "code",
   "execution_count": 18,
   "metadata": {
    "collapsed": false
   },
   "outputs": [
    {
     "name": "stdout",
     "output_type": "stream",
     "text": [
      "['12', '*', '34', '+', '(3', '*', '7)']\n",
      "<class 'list'>\n",
      "<class 'str'>\n",
      "<class 'str'>\n"
     ]
    }
   ],
   "source": [
    "# the .split() string method will split a string into a list of individual strings at whatever character is specified in\n",
    "# the .split() method (in this case an empty space \" \")\n",
    "print(expression.split(\" \"))\n",
    "print(type(expression.split(\" \")))\n",
    "print(type(expression))\n",
    "print(type(expression.split(\" \")[0]))"
   ]
  },
  {
   "cell_type": "code",
   "execution_count": 24,
   "metadata": {
    "collapsed": false
   },
   "outputs": [
    {
     "data": {
      "text/plain": [
       "['__add__',\n",
       " '__class__',\n",
       " '__contains__',\n",
       " '__delattr__',\n",
       " '__dir__',\n",
       " '__doc__',\n",
       " '__eq__',\n",
       " '__format__',\n",
       " '__ge__',\n",
       " '__getattribute__',\n",
       " '__getitem__',\n",
       " '__getnewargs__',\n",
       " '__gt__',\n",
       " '__hash__',\n",
       " '__init__',\n",
       " '__init_subclass__',\n",
       " '__iter__',\n",
       " '__le__',\n",
       " '__len__',\n",
       " '__lt__',\n",
       " '__mod__',\n",
       " '__mul__',\n",
       " '__ne__',\n",
       " '__new__',\n",
       " '__reduce__',\n",
       " '__reduce_ex__',\n",
       " '__repr__',\n",
       " '__rmod__',\n",
       " '__rmul__',\n",
       " '__setattr__',\n",
       " '__sizeof__',\n",
       " '__str__',\n",
       " '__subclasshook__',\n",
       " 'capitalize',\n",
       " 'casefold',\n",
       " 'center',\n",
       " 'count',\n",
       " 'encode',\n",
       " 'endswith',\n",
       " 'expandtabs',\n",
       " 'find',\n",
       " 'format',\n",
       " 'format_map',\n",
       " 'index',\n",
       " 'isalnum',\n",
       " 'isalpha',\n",
       " 'isdecimal',\n",
       " 'isdigit',\n",
       " 'isidentifier',\n",
       " 'islower',\n",
       " 'isnumeric',\n",
       " 'isprintable',\n",
       " 'isspace',\n",
       " 'istitle',\n",
       " 'isupper',\n",
       " 'join',\n",
       " 'ljust',\n",
       " 'lower',\n",
       " 'lstrip',\n",
       " 'maketrans',\n",
       " 'partition',\n",
       " 'replace',\n",
       " 'rfind',\n",
       " 'rindex',\n",
       " 'rjust',\n",
       " 'rpartition',\n",
       " 'rsplit',\n",
       " 'rstrip',\n",
       " 'split',\n",
       " 'splitlines',\n",
       " 'startswith',\n",
       " 'strip',\n",
       " 'swapcase',\n",
       " 'title',\n",
       " 'translate',\n",
       " 'upper',\n",
       " 'zfill']"
      ]
     },
     "execution_count": 24,
     "metadata": {},
     "output_type": "execute_result"
    }
   ],
   "source": [
    "dir(expression) #the dir() function will list packages and methods available for use with a specified data type\n",
    "                #in this case, packages and methods available for use with strings are listed as the expression variable,\n",
    "                #which is a string, is specified"
   ]
  },
  {
   "cell_type": "code",
   "execution_count": 27,
   "metadata": {
    "collapsed": false
   },
   "outputs": [
    {
     "name": "stdout",
     "output_type": "stream",
     "text": [
      "KEVIN\n",
      "james\n"
     ]
    }
   ],
   "source": [
    "# .upper() and .lower() string methods\n",
    "name = \"kevin\"\n",
    "name2 = \"JAMES\"\n",
    "print(name.upper())\n",
    "print(name2.lower())"
   ]
  },
  {
   "cell_type": "code",
   "execution_count": 32,
   "metadata": {
    "collapsed": false
   },
   "outputs": [
    {
     "name": "stdout",
     "output_type": "stream",
     "text": [
      "12 * 34 + (3 * 7)\n",
      "False\n",
      "True\n"
     ]
    }
   ],
   "source": [
    "# the string method .startswith() returns a boolean value of true or false\n",
    "print(expression)\n",
    "print(expression.startswith(\"w\"))\n",
    "print(expression.startswith(\"12\"))"
   ]
  },
  {
   "cell_type": "code",
   "execution_count": 33,
   "metadata": {
    "collapsed": false
   },
   "outputs": [
    {
     "data": {
      "text/plain": [
       "429"
      ]
     },
     "execution_count": 33,
     "metadata": {},
     "output_type": "execute_result"
    }
   ],
   "source": [
    "eval(expression)"
   ]
  },
  {
   "cell_type": "code",
   "execution_count": 34,
   "metadata": {
    "collapsed": false
   },
   "outputs": [
    {
     "data": {
      "text/plain": [
       "'Kevin'"
      ]
     },
     "execution_count": 34,
     "metadata": {},
     "output_type": "execute_result"
    }
   ],
   "source": [
    "name.capitalize()"
   ]
  },
  {
   "cell_type": "code",
   "execution_count": 37,
   "metadata": {
    "collapsed": false
   },
   "outputs": [
    {
     "data": {
      "text/plain": [
       "False"
      ]
     },
     "execution_count": 37,
     "metadata": {},
     "output_type": "execute_result"
    }
   ],
   "source": [
    "name.startswith(\"K\") #startswith() is case sensitive"
   ]
  },
  {
   "cell_type": "code",
   "execution_count": 39,
   "metadata": {
    "collapsed": false
   },
   "outputs": [
    {
     "name": "stdout",
     "output_type": "stream",
     "text": [
      "n\n"
     ]
    }
   ],
   "source": [
    "print(name[-1]) # the index -1 will give the last character in a string"
   ]
  },
  {
   "cell_type": "code",
   "execution_count": 41,
   "metadata": {
    "collapsed": false
   },
   "outputs": [
    {
     "name": "stdout",
     "output_type": "stream",
     "text": [
      "kevin\n"
     ]
    }
   ],
   "source": [
    "print(name[0:]) # the index 0: will return every character in the string "
   ]
  },
  {
   "cell_type": "code",
   "execution_count": 43,
   "metadata": {
    "collapsed": false
   },
   "outputs": [
    {
     "name": "stdout",
     "output_type": "stream",
     "text": [
      "nivek\n"
     ]
    }
   ],
   "source": [
    "print(name[::-1]) # every character in reverse order"
   ]
  },
  {
   "cell_type": "code",
   "execution_count": 45,
   "metadata": {
    "collapsed": false
   },
   "outputs": [
    {
     "name": "stdout",
     "output_type": "stream",
     "text": [
      "kevi\n"
     ]
    }
   ],
   "source": [
    "print(name[:-1]) # every character except the last"
   ]
  },
  {
   "cell_type": "code",
   "execution_count": 47,
   "metadata": {
    "collapsed": false
   },
   "outputs": [
    {
     "data": {
      "text/plain": [
       "<reversed at 0x26dd2c01ac8>"
      ]
     },
     "execution_count": 47,
     "metadata": {},
     "output_type": "execute_result"
    }
   ],
   "source": [
    "reversed(name)"
   ]
  },
  {
   "cell_type": "code",
   "execution_count": 51,
   "metadata": {
    "collapsed": false
   },
   "outputs": [
    {
     "data": {
      "text/plain": [
       "['n', 'i', 'v', 'e', 'k']"
      ]
     },
     "execution_count": 51,
     "metadata": {},
     "output_type": "execute_result"
    }
   ],
   "source": [
    "list(reversed(name)) # all characters in a list in reversed order. must use list function to demand values "
   ]
  },
  {
   "cell_type": "code",
   "execution_count": 52,
   "metadata": {
    "collapsed": false
   },
   "outputs": [
    {
     "name": "stdout",
     "output_type": "stream",
     "text": [
      "hi\n",
      "there\n"
     ]
    }
   ],
   "source": [
    "#defining a simple function called say_hello() that prints a message\n",
    "#defining the function\n",
    "def say_hello():\n",
    "    print(\"hi\")\n",
    "    print(\"there\")\n",
    "#calling the function\n",
    "say_hello()"
   ]
  },
  {
   "cell_type": "code",
   "execution_count": 54,
   "metadata": {
    "collapsed": false
   },
   "outputs": [
    {
     "name": "stdout",
     "output_type": "stream",
     "text": [
      "hi\n",
      "there\n"
     ]
    }
   ],
   "source": [
    "#giving the function an alias called hi\n",
    "hi = say_hello\n",
    "#calling the function using the alias\n",
    "hi()"
   ]
  },
  {
   "cell_type": "code",
   "execution_count": 55,
   "metadata": {
    "collapsed": false
   },
   "outputs": [
    {
     "name": "stdout",
     "output_type": "stream",
     "text": [
      "Hi Ruth\n"
     ]
    }
   ],
   "source": [
    "#defining a function with a parameter \"name\". A parameter takes an argument\n",
    "def say_hello_to(name):\n",
    "    print(\"Hi %s\" % name)\n",
    "\n",
    "say_hello_to(\"Ruth\")"
   ]
  },
  {
   "cell_type": "code",
   "execution_count": 56,
   "metadata": {
    "collapsed": false
   },
   "outputs": [
    {
     "name": "stdout",
     "output_type": "stream",
     "text": [
      "Hello John\n"
     ]
    }
   ],
   "source": [
    "#using string formatting\n",
    "def say_hello_to_2(name):\n",
    "    print(\"Hello {0}\".format(name))\n",
    "\n",
    "say_hello_to_2(\"John\")"
   ]
  },
  {
   "cell_type": "code",
   "execution_count": 58,
   "metadata": {
    "collapsed": false
   },
   "outputs": [
    {
     "name": "stdout",
     "output_type": "stream",
     "text": [
      "12\n"
     ]
    }
   ],
   "source": [
    "def show_num(num):\n",
    "    print(num)\n",
    "\n",
    "show_num(12)"
   ]
  },
  {
   "cell_type": "code",
   "execution_count": 59,
   "metadata": {
    "collapsed": false
   },
   "outputs": [
    {
     "data": {
      "text/plain": [
       "True"
      ]
     },
     "execution_count": 59,
     "metadata": {},
     "output_type": "execute_result"
    }
   ],
   "source": [
    "int is int"
   ]
  },
  {
   "cell_type": "code",
   "execution_count": 60,
   "metadata": {
    "collapsed": false
   },
   "outputs": [
    {
     "data": {
      "text/plain": [
       "False"
      ]
     },
     "execution_count": 60,
     "metadata": {},
     "output_type": "execute_result"
    }
   ],
   "source": [
    "float is int"
   ]
  },
  {
   "cell_type": "code",
   "execution_count": 63,
   "metadata": {
    "collapsed": false
   },
   "outputs": [
    {
     "data": {
      "text/plain": [
       "18"
      ]
     },
     "execution_count": 63,
     "metadata": {},
     "output_type": "execute_result"
    }
   ],
   "source": [
    "#defining a function that returns a value\n",
    "def double(num):\n",
    "    return(num * 2)\n",
    "\n",
    "double(9)"
   ]
  },
  {
   "cell_type": "code",
   "execution_count": 64,
   "metadata": {
    "collapsed": false
   },
   "outputs": [
    {
     "name": "stdout",
     "output_type": "stream",
     "text": [
      "5\n"
     ]
    }
   ],
   "source": [
    "def add(n, m):\n",
    "    return(n + m)\n",
    "\n",
    "added = add(2, 3)\n",
    "\n",
    "print(added)"
   ]
  },
  {
   "cell_type": "code",
   "execution_count": 67,
   "metadata": {
    "collapsed": false
   },
   "outputs": [
    {
     "name": "stdout",
     "output_type": "stream",
     "text": [
      "2\n",
      "3\n",
      "Numbers are the same size!\n"
     ]
    }
   ],
   "source": [
    "def largest(n, m):\n",
    "    if n > m:\n",
    "        return n\n",
    "    elif n < m:\n",
    "        return m\n",
    "    else:\n",
    "        return(\"Numbers are the same size!\")\n",
    "\n",
    "print(largest(1,2))\n",
    "print(largest(3,1))\n",
    "print(largest(2,2))"
   ]
  },
  {
   "cell_type": "code",
   "execution_count": 75,
   "metadata": {
    "collapsed": false
   },
   "outputs": [
    {
     "name": "stdout",
     "output_type": "stream",
     "text": [
      "2\n",
      "3\n",
      "2\n"
     ]
    }
   ],
   "source": [
    "#more pythonic if statment than previous, but without elif\n",
    "def largest(n, m):\n",
    "    return n if n > m else m\n",
    "\n",
    "print(largest(1,2))\n",
    "print(largest(3,1))\n",
    "print(largest(2,2))"
   ]
  },
  {
   "cell_type": "code",
   "execution_count": 80,
   "metadata": {
    "collapsed": false
   },
   "outputs": [
    {
     "name": "stdout",
     "output_type": "stream",
     "text": [
      "\n",
      "Windows IP Configuration\n",
      "\n",
      "\n",
      "Ethernet adapter Local Area Connection:\n",
      "\n",
      "   Connection-specific DNS Suffix  . : \n",
      "   Link-local IPv6 Address . . . . . : fe80::6c91:c62c:81e2:31f6%7\n",
      "   IPv4 Address. . . . . . . . . . . : 172.16.0.60\n",
      "   Subnet Mask . . . . . . . . . . . : 255.255.255.0\n",
      "   Default Gateway . . . . . . . . . : 172.16.0.1\n",
      "\n",
      "Ethernet adapter VMware Network Adapter VMnet1:\n",
      "\n",
      "   Connection-specific DNS Suffix  . : \n",
      "   Link-local IPv6 Address . . . . . : fe80::511d:a5aa:4840:ae20%12\n",
      "   IPv4 Address. . . . . . . . . . . : 192.168.116.1\n",
      "   Subnet Mask . . . . . . . . . . . : 255.255.255.0\n",
      "   Default Gateway . . . . . . . . . : \n",
      "\n",
      "Ethernet adapter VMware Network Adapter VMnet8:\n",
      "\n",
      "   Connection-specific DNS Suffix  . : \n",
      "   Link-local IPv6 Address . . . . . : fe80::c456:56b5:cf64:e59%6\n",
      "   IPv4 Address. . . . . . . . . . . : 192.168.202.1\n",
      "   Subnet Mask . . . . . . . . . . . : 255.255.255.0\n",
      "   Default Gateway . . . . . . . . . : \n"
     ]
    }
   ],
   "source": [
    "# ! allows use of windows command prompt commands\n",
    "!ipconfig"
   ]
  },
  {
   "cell_type": "code",
   "execution_count": 87,
   "metadata": {
    "collapsed": false
   },
   "outputs": [
    {
     "name": "stdout",
     "output_type": "stream",
     "text": [
      "<class 'list'>\n",
      "['192', '168', '56', '1']\n"
     ]
    }
   ],
   "source": [
    "ip_address = \"192.168.56.1\"\n",
    "print(type(ip_address.split(\".\")))\n",
    "print(ip_address.split(\".\"))"
   ]
  },
  {
   "cell_type": "code",
   "execution_count": 88,
   "metadata": {
    "collapsed": false
   },
   "outputs": [
    {
     "data": {
      "text/plain": [
       "('192', '168', '56', '1')"
      ]
     },
     "execution_count": 88,
     "metadata": {},
     "output_type": "execute_result"
    }
   ],
   "source": [
    "a, b, c, d = ip_address.split(\".\")\n",
    "a,b,c,d"
   ]
  },
  {
   "cell_type": "code",
   "execution_count": 89,
   "metadata": {
    "collapsed": false
   },
   "outputs": [
    {
     "name": "stdout",
     "output_type": "stream",
     "text": [
      "192\n",
      "168\n",
      "56\n",
      "1\n"
     ]
    }
   ],
   "source": [
    "for octet in ip_address.split(\".\"):\n",
    "    print(octet)"
   ]
  },
  {
   "cell_type": "code",
   "execution_count": 90,
   "metadata": {
    "collapsed": false
   },
   "outputs": [
    {
     "name": "stdout",
     "output_type": "stream",
     "text": [
      "192 168 56 0\n",
      "192 168 56 1\n",
      "192 168 56 2\n",
      "192 168 56 3\n",
      "192 168 56 4\n",
      "192 168 56 5\n",
      "192 168 56 6\n",
      "192 168 56 7\n",
      "192 168 56 8\n",
      "192 168 56 9\n",
      "192 168 56 10\n",
      "192 168 56 11\n",
      "192 168 56 12\n",
      "192 168 56 13\n",
      "192 168 56 14\n",
      "192 168 56 15\n",
      "192 168 56 16\n",
      "192 168 56 17\n",
      "192 168 56 18\n",
      "192 168 56 19\n",
      "192 168 56 20\n",
      "192 168 56 21\n",
      "192 168 56 22\n",
      "192 168 56 23\n",
      "192 168 56 24\n",
      "192 168 56 25\n",
      "192 168 56 26\n",
      "192 168 56 27\n",
      "192 168 56 28\n",
      "192 168 56 29\n",
      "192 168 56 30\n",
      "192 168 56 31\n",
      "192 168 56 32\n",
      "192 168 56 33\n",
      "192 168 56 34\n",
      "192 168 56 35\n",
      "192 168 56 36\n",
      "192 168 56 37\n",
      "192 168 56 38\n",
      "192 168 56 39\n",
      "192 168 56 40\n",
      "192 168 56 41\n",
      "192 168 56 42\n",
      "192 168 56 43\n",
      "192 168 56 44\n",
      "192 168 56 45\n",
      "192 168 56 46\n",
      "192 168 56 47\n",
      "192 168 56 48\n",
      "192 168 56 49\n",
      "192 168 56 50\n",
      "192 168 56 51\n",
      "192 168 56 52\n",
      "192 168 56 53\n",
      "192 168 56 54\n",
      "192 168 56 55\n",
      "192 168 56 56\n",
      "192 168 56 57\n",
      "192 168 56 58\n",
      "192 168 56 59\n",
      "192 168 56 60\n",
      "192 168 56 61\n",
      "192 168 56 62\n",
      "192 168 56 63\n",
      "192 168 56 64\n",
      "192 168 56 65\n",
      "192 168 56 66\n",
      "192 168 56 67\n",
      "192 168 56 68\n",
      "192 168 56 69\n",
      "192 168 56 70\n",
      "192 168 56 71\n",
      "192 168 56 72\n",
      "192 168 56 73\n",
      "192 168 56 74\n",
      "192 168 56 75\n",
      "192 168 56 76\n",
      "192 168 56 77\n",
      "192 168 56 78\n",
      "192 168 56 79\n",
      "192 168 56 80\n",
      "192 168 56 81\n",
      "192 168 56 82\n",
      "192 168 56 83\n",
      "192 168 56 84\n",
      "192 168 56 85\n",
      "192 168 56 86\n",
      "192 168 56 87\n",
      "192 168 56 88\n",
      "192 168 56 89\n",
      "192 168 56 90\n",
      "192 168 56 91\n",
      "192 168 56 92\n",
      "192 168 56 93\n",
      "192 168 56 94\n",
      "192 168 56 95\n",
      "192 168 56 96\n",
      "192 168 56 97\n",
      "192 168 56 98\n",
      "192 168 56 99\n",
      "192 168 56 100\n",
      "192 168 56 101\n",
      "192 168 56 102\n",
      "192 168 56 103\n",
      "192 168 56 104\n",
      "192 168 56 105\n",
      "192 168 56 106\n",
      "192 168 56 107\n",
      "192 168 56 108\n",
      "192 168 56 109\n",
      "192 168 56 110\n",
      "192 168 56 111\n",
      "192 168 56 112\n",
      "192 168 56 113\n",
      "192 168 56 114\n",
      "192 168 56 115\n",
      "192 168 56 116\n",
      "192 168 56 117\n",
      "192 168 56 118\n",
      "192 168 56 119\n",
      "192 168 56 120\n",
      "192 168 56 121\n",
      "192 168 56 122\n",
      "192 168 56 123\n",
      "192 168 56 124\n",
      "192 168 56 125\n",
      "192 168 56 126\n",
      "192 168 56 127\n",
      "192 168 56 128\n",
      "192 168 56 129\n",
      "192 168 56 130\n",
      "192 168 56 131\n",
      "192 168 56 132\n",
      "192 168 56 133\n",
      "192 168 56 134\n",
      "192 168 56 135\n",
      "192 168 56 136\n",
      "192 168 56 137\n",
      "192 168 56 138\n",
      "192 168 56 139\n",
      "192 168 56 140\n",
      "192 168 56 141\n",
      "192 168 56 142\n",
      "192 168 56 143\n",
      "192 168 56 144\n",
      "192 168 56 145\n",
      "192 168 56 146\n",
      "192 168 56 147\n",
      "192 168 56 148\n",
      "192 168 56 149\n",
      "192 168 56 150\n",
      "192 168 56 151\n",
      "192 168 56 152\n",
      "192 168 56 153\n",
      "192 168 56 154\n",
      "192 168 56 155\n",
      "192 168 56 156\n",
      "192 168 56 157\n",
      "192 168 56 158\n",
      "192 168 56 159\n",
      "192 168 56 160\n",
      "192 168 56 161\n",
      "192 168 56 162\n",
      "192 168 56 163\n",
      "192 168 56 164\n",
      "192 168 56 165\n",
      "192 168 56 166\n",
      "192 168 56 167\n",
      "192 168 56 168\n",
      "192 168 56 169\n",
      "192 168 56 170\n",
      "192 168 56 171\n",
      "192 168 56 172\n",
      "192 168 56 173\n",
      "192 168 56 174\n",
      "192 168 56 175\n",
      "192 168 56 176\n",
      "192 168 56 177\n",
      "192 168 56 178\n",
      "192 168 56 179\n",
      "192 168 56 180\n",
      "192 168 56 181\n",
      "192 168 56 182\n",
      "192 168 56 183\n",
      "192 168 56 184\n",
      "192 168 56 185\n",
      "192 168 56 186\n",
      "192 168 56 187\n",
      "192 168 56 188\n",
      "192 168 56 189\n",
      "192 168 56 190\n",
      "192 168 56 191\n",
      "192 168 56 192\n",
      "192 168 56 193\n",
      "192 168 56 194\n",
      "192 168 56 195\n",
      "192 168 56 196\n",
      "192 168 56 197\n",
      "192 168 56 198\n",
      "192 168 56 199\n",
      "192 168 56 200\n",
      "192 168 56 201\n",
      "192 168 56 202\n",
      "192 168 56 203\n",
      "192 168 56 204\n",
      "192 168 56 205\n",
      "192 168 56 206\n",
      "192 168 56 207\n",
      "192 168 56 208\n",
      "192 168 56 209\n",
      "192 168 56 210\n",
      "192 168 56 211\n",
      "192 168 56 212\n",
      "192 168 56 213\n",
      "192 168 56 214\n",
      "192 168 56 215\n",
      "192 168 56 216\n",
      "192 168 56 217\n",
      "192 168 56 218\n",
      "192 168 56 219\n",
      "192 168 56 220\n",
      "192 168 56 221\n",
      "192 168 56 222\n",
      "192 168 56 223\n",
      "192 168 56 224\n",
      "192 168 56 225\n",
      "192 168 56 226\n",
      "192 168 56 227\n",
      "192 168 56 228\n",
      "192 168 56 229\n",
      "192 168 56 230\n",
      "192 168 56 231\n",
      "192 168 56 232\n",
      "192 168 56 233\n",
      "192 168 56 234\n",
      "192 168 56 235\n",
      "192 168 56 236\n",
      "192 168 56 237\n",
      "192 168 56 238\n",
      "192 168 56 239\n",
      "192 168 56 240\n",
      "192 168 56 241\n",
      "192 168 56 242\n",
      "192 168 56 243\n",
      "192 168 56 244\n",
      "192 168 56 245\n",
      "192 168 56 246\n",
      "192 168 56 247\n",
      "192 168 56 248\n",
      "192 168 56 249\n",
      "192 168 56 250\n",
      "192 168 56 251\n",
      "192 168 56 252\n",
      "192 168 56 253\n",
      "192 168 56 254\n",
      "192 168 56 255\n"
     ]
    }
   ],
   "source": [
    "for i in range(256):\n",
    "    print(a,b,c,i)"
   ]
  },
  {
   "cell_type": "code",
   "execution_count": 92,
   "metadata": {
    "collapsed": false
   },
   "outputs": [
    {
     "name": "stdout",
     "output_type": "stream",
     "text": [
      "4\n",
      "9\n"
     ]
    }
   ],
   "source": [
    "nums = [1,6,2,4]\n",
    "word = \"something\"\n",
    "print(len(nums))\n",
    "print(len(word))"
   ]
  },
  {
   "cell_type": "code",
   "execution_count": null,
   "metadata": {
    "collapsed": true
   },
   "outputs": [],
   "source": []
  }
 ],
 "metadata": {
  "kernelspec": {
   "display_name": "Python 3",
   "language": "python",
   "name": "python3"
  },
  "language_info": {
   "codemirror_mode": {
    "name": "ipython",
    "version": 3
   },
   "file_extension": ".py",
   "mimetype": "text/x-python",
   "name": "python",
   "nbconvert_exporter": "python",
   "pygments_lexer": "ipython3",
   "version": "3.6.0"
  }
 },
 "nbformat": 4,
 "nbformat_minor": 2
}
