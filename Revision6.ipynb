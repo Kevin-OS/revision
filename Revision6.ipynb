{
 "cells": [
  {
   "cell_type": "code",
   "execution_count": 83,
   "metadata": {
    "collapsed": false
   },
   "outputs": [],
   "source": [
    "#create a file called numbers.dat and write some data to it\n",
    "numbers = '''1,2,3\n",
    "4,5,6\n",
    "7,8,9'''\n",
    "try:\n",
    "    with open(\"numbers.dat\",\"at\") as f:\n",
    "        f.write(\"\\n10,11,12\")\n",
    "except:\n",
    "    print(\"Error - File exists!\")"
   ]
  },
  {
   "cell_type": "code",
   "execution_count": 84,
   "metadata": {
    "collapsed": false
   },
   "outputs": [
    {
     "name": "stdout",
     "output_type": "stream",
     "text": [
      "1,2,3\n",
      "4,5,6\n",
      "7,8,9\n",
      "10,11,12\n"
     ]
    }
   ],
   "source": [
    "with open(\"numbers.dat\") as f:\n",
    "    print(f.read())"
   ]
  },
  {
   "cell_type": "code",
   "execution_count": 32,
   "metadata": {
    "collapsed": false
   },
   "outputs": [
    {
     "name": "stdout",
     "output_type": "stream",
     "text": [
      "13,22,19,12,47,"
     ]
    }
   ],
   "source": [
    "with open(\"numbers.dat\") as file:\n",
    "    for num in file.read().split(\"\\n\"):\n",
    "        if num not in \" \":\n",
    "            print(num, end = \",\")"
   ]
  },
  {
   "cell_type": "code",
   "execution_count": 45,
   "metadata": {
    "collapsed": false
   },
   "outputs": [
    {
     "name": "stdout",
     "output_type": "stream",
     "text": [
      "113\n"
     ]
    }
   ],
   "source": [
    "with open(\"numbers.dat\") as f:\n",
    "    total = []\n",
    "    for num in f.read().split(\"\\n\"):\n",
    "        if num not in \"\":\n",
    "            total.append(int(num))\n",
    "    print(sum(total))"
   ]
  },
  {
   "cell_type": "code",
   "execution_count": 46,
   "metadata": {
    "collapsed": true
   },
   "outputs": [],
   "source": [
    "def double(n):\n",
    "    return n * 2"
   ]
  },
  {
   "cell_type": "code",
   "execution_count": 48,
   "metadata": {
    "collapsed": false
   },
   "outputs": [
    {
     "data": {
      "text/plain": [
       "[26, 44, 38, 24, 94]"
      ]
     },
     "execution_count": 48,
     "metadata": {},
     "output_type": "execute_result"
    }
   ],
   "source": [
    "doubled = map(double, numbers)\n",
    "list(doubled)"
   ]
  },
  {
   "cell_type": "code",
   "execution_count": null,
   "metadata": {
    "collapsed": true
   },
   "outputs": [],
   "source": [
    "with open(\"numbers.dat\") as f:\n",
    "    num_tup = (f.read())"
   ]
  },
  {
   "cell_type": "code",
   "execution_count": 97,
   "metadata": {
    "collapsed": false
   },
   "outputs": [
    {
     "data": {
      "text/plain": [
       "['__class__',\n",
       " '__contains__',\n",
       " '__delattr__',\n",
       " '__delitem__',\n",
       " '__dir__',\n",
       " '__doc__',\n",
       " '__eq__',\n",
       " '__format__',\n",
       " '__ge__',\n",
       " '__getattribute__',\n",
       " '__getitem__',\n",
       " '__gt__',\n",
       " '__hash__',\n",
       " '__init__',\n",
       " '__iter__',\n",
       " '__le__',\n",
       " '__len__',\n",
       " '__lt__',\n",
       " '__ne__',\n",
       " '__new__',\n",
       " '__reduce__',\n",
       " '__reduce_ex__',\n",
       " '__repr__',\n",
       " '__setattr__',\n",
       " '__setitem__',\n",
       " '__sizeof__',\n",
       " '__str__',\n",
       " '__subclasshook__',\n",
       " 'clear',\n",
       " 'copy',\n",
       " 'fromkeys',\n",
       " 'get',\n",
       " 'items',\n",
       " 'keys',\n",
       " 'pop',\n",
       " 'popitem',\n",
       " 'setdefault',\n",
       " 'update',\n",
       " 'values']"
      ]
     },
     "execution_count": 97,
     "metadata": {},
     "output_type": "execute_result"
    }
   ],
   "source": [
    "dir({})"
   ]
  },
  {
   "cell_type": "code",
   "execution_count": 105,
   "metadata": {
    "collapsed": false
   },
   "outputs": [
    {
     "name": "stdout",
     "output_type": "stream",
     "text": [
      "[('1', '2', '3'), ('4', '5', '6'), ('7', '8', '9'), ('10', '11', '12')]\n"
     ]
    }
   ],
   "source": [
    "#convert the numbers.dat file into a list of tuples\n",
    "tup_list = []\n",
    "count = 0\n",
    "with open(\"numbers.dat\") as f:\n",
    "    for line in f.read().split(\"\\n\"):\n",
    "        if count == 3:\n",
    "            line = line.replace(\",\",\"\")\n",
    "            a = \"\".join([line[0],line[1]])\n",
    "            b = \"\".join([line[2],line[3]])\n",
    "            c = \"\".join([line[4],line[5]])\n",
    "            last_tup = a,b,c\n",
    "            tup_list.append(last_tup)\n",
    "            break\n",
    "        tup_list.append(tuple(line.replace(\",\",\"\")))\n",
    "        count += 1\n",
    "print(tup_list)"
   ]
  },
  {
   "cell_type": "code",
   "execution_count": null,
   "metadata": {
    "collapsed": true
   },
   "outputs": [],
   "source": []
  }
 ],
 "metadata": {
  "kernelspec": {
   "display_name": "Python 3",
   "language": "python",
   "name": "python3"
  },
  "language_info": {
   "codemirror_mode": {
    "name": "ipython",
    "version": 3
   },
   "file_extension": ".py",
   "mimetype": "text/x-python",
   "name": "python",
   "nbconvert_exporter": "python",
   "pygments_lexer": "ipython3",
   "version": "3.6.0"
  }
 },
 "nbformat": 4,
 "nbformat_minor": 0
}
