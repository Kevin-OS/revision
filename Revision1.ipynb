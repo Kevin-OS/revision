{
 "cells": [
  {
   "cell_type": "code",
   "execution_count": 3,
   "metadata": {
    "collapsed": false
   },
   "outputs": [
    {
     "name": "stdout",
     "output_type": "stream",
     "text": [
      "3.3333333333333335\n",
      "4.0\n"
     ]
    }
   ],
   "source": [
    "#regular division\n",
    "print(10/3)\n",
    "print(8/2)"
   ]
  },
  {
   "cell_type": "code",
   "execution_count": 4,
   "metadata": {
    "collapsed": false
   },
   "outputs": [
    {
     "name": "stdout",
     "output_type": "stream",
     "text": [
      "3\n",
      "4\n"
     ]
    }
   ],
   "source": [
    "#forcing integer division\n",
    "print(10//3)\n",
    "print(8//2)"
   ]
  },
  {
   "cell_type": "code",
   "execution_count": 5,
   "metadata": {
    "collapsed": false
   },
   "outputs": [
    {
     "data": {
      "text/plain": [
       "1"
      ]
     },
     "execution_count": 5,
     "metadata": {},
     "output_type": "execute_result"
    }
   ],
   "source": [
    "# the modulus operator is %. it gets the remainder of a division\n",
    "10%3"
   ]
  },
  {
   "cell_type": "code",
   "execution_count": 8,
   "metadata": {
    "collapsed": false
   },
   "outputs": [
    {
     "name": "stdout",
     "output_type": "stream",
     "text": [
      "**********\n"
     ]
    },
    {
     "data": {
      "text/plain": [
       "'hellohellohellohello'"
      ]
     },
     "execution_count": 8,
     "metadata": {},
     "output_type": "execute_result"
    }
   ],
   "source": [
    "#strings can be multiplied\n",
    "print(\"*\" * 10)\n",
    "m = \"hello\" * 4\n",
    "m"
   ]
  },
  {
   "cell_type": "code",
   "execution_count": 17,
   "metadata": {
    "collapsed": false
   },
   "outputs": [
    {
     "name": "stdout",
     "output_type": "stream",
     "text": [
      "hellohellohellohello\n",
      "hell\n",
      "ll\n",
      "hloelh\n",
      "olleholleholleholleh\n",
      "lhleol\n"
     ]
    }
   ],
   "source": [
    "# slicing\n",
    "print(m)\n",
    "print(m[0:4])\n",
    "print(m[2:4])\n",
    "print(m[0:12:2]) #start at index 0, increment by 2 and print each character up as far as index 11\n",
    "print(m[::-1]) # reverse the string\n",
    "print(m[12:0:-2]) # start at index 12, decrement by 2 as far as index 0"
   ]
  },
  {
   "cell_type": "code",
   "execution_count": 18,
   "metadata": {
    "collapsed": false
   },
   "outputs": [
    {
     "name": "stdout",
     "output_type": "stream",
     "text": [
      "h\n",
      "e\n",
      "l\n",
      "l\n",
      "o\n"
     ]
    }
   ],
   "source": [
    "n = \"hello\"\n",
    "for letter in n:\n",
    "    print(letter)"
   ]
  },
  {
   "cell_type": "code",
   "execution_count": 19,
   "metadata": {
    "collapsed": false
   },
   "outputs": [
    {
     "name": "stdout",
     "output_type": "stream",
     "text": [
      "0 h\n",
      "1 e\n",
      "2 l\n",
      "3 l\n",
      "4 o\n"
     ]
    }
   ],
   "source": [
    "# the enumerate function\n",
    "for i, letter in enumerate(n): # two variables are supplied here as the enumerate function will return two values\n",
    "    print(i, letter)"
   ]
  },
  {
   "cell_type": "code",
   "execution_count": 21,
   "metadata": {
    "collapsed": false
   },
   "outputs": [
    {
     "name": "stdout",
     "output_type": "stream",
     "text": [
      "0 ------ h\n",
      "1 ------ e\n",
      "2 ------ l\n",
      "3 ------ l\n",
      "4 ------ o\n"
     ]
    }
   ],
   "source": [
    "#combining variables and fixed strings to output information\n",
    "for i, letter in enumerate(n):\n",
    "    print(\"%d ------ %s\" % (i, letter)) # %d says to expect a decimal number, %s says to expect a string. the string is \n",
    "                                        # followed by a % symbol and then the values that will replace %d and %s in \n",
    "                                        # parentheses"
   ]
  },
  {
   "cell_type": "code",
   "execution_count": 27,
   "metadata": {
    "collapsed": false
   },
   "outputs": [
    {
     "ename": "TypeError",
     "evalue": "%d format: a number is required, not str",
     "output_type": "error",
     "traceback": [
      "\u001b[0;31m---------------------------------------------------------------------------\u001b[0m",
      "\u001b[0;31mTypeError\u001b[0m                                 Traceback (most recent call last)",
      "\u001b[0;32m<ipython-input-27-eb20edbe24ad>\u001b[0m in \u001b[0;36m<module>\u001b[0;34m()\u001b[0m\n\u001b[1;32m      1\u001b[0m \u001b[1;31m#swapping the position of the variables after the % symbol gives an error here as the wrong variable type is being supplied\u001b[0m\u001b[1;33m\u001b[0m\u001b[1;33m\u001b[0m\u001b[0m\n\u001b[1;32m      2\u001b[0m \u001b[1;32mfor\u001b[0m \u001b[0mi\u001b[0m\u001b[1;33m,\u001b[0m \u001b[0mletter\u001b[0m \u001b[1;32min\u001b[0m \u001b[0menumerate\u001b[0m\u001b[1;33m(\u001b[0m\u001b[0mn\u001b[0m\u001b[1;33m)\u001b[0m\u001b[1;33m:\u001b[0m \u001b[1;31m#for %d. it requires a number not a string\u001b[0m\u001b[1;33m\u001b[0m\u001b[0m\n\u001b[0;32m----> 3\u001b[0;31m     \u001b[0mprint\u001b[0m\u001b[1;33m(\u001b[0m\u001b[1;34m\"%d ------ %s\"\u001b[0m \u001b[1;33m%\u001b[0m \u001b[1;33m(\u001b[0m\u001b[0mletter\u001b[0m\u001b[1;33m,\u001b[0m \u001b[0mi\u001b[0m\u001b[1;33m)\u001b[0m\u001b[1;33m)\u001b[0m\u001b[1;33m\u001b[0m\u001b[0m\n\u001b[0m",
      "\u001b[0;31mTypeError\u001b[0m: %d format: a number is required, not str"
     ]
    }
   ],
   "source": [
    "#swapping the position of the variables after the % symbol gives an error here as the wrong variable type is being supplied\n",
    "for i, letter in enumerate(n): #for %d. it requires a number not a string\n",
    "    print(\"%d ------ %s\" % (letter, i))"
   ]
  },
  {
   "cell_type": "code",
   "execution_count": 23,
   "metadata": {
    "collapsed": false
   },
   "outputs": [
    {
     "name": "stdout",
     "output_type": "stream",
     "text": [
      "0 -------- h\n",
      "1 -------- e\n",
      "2 -------- l\n",
      "3 -------- l\n",
      "4 -------- o\n"
     ]
    }
   ],
   "source": [
    "#combining variables and fixed strings to output information using the .format string method\n",
    "for i, letter in enumerate(n):\n",
    "    print(\"{0} -------- {1}\".format(i, letter)) # indexes are placed in curly braces in the string. These are replaced by \n",
    "                                                # values supplied in the .format function after the string"
   ]
  },
  {
   "cell_type": "code",
   "execution_count": 25,
   "metadata": {
    "collapsed": false
   },
   "outputs": [
    {
     "name": "stdout",
     "output_type": "stream",
     "text": [
      "h -------- 0\n",
      "e -------- 1\n",
      "l -------- 2\n",
      "l -------- 3\n",
      "o -------- 4\n"
     ]
    }
   ],
   "source": [
    "#reversed the indexes in this example\n",
    "#combining variables and fixed strings to output information using the .format string method\n",
    "for i, letter in enumerate(n):\n",
    "    print(\"{1} -------- {0}\".format(i, letter)) # indexes are placed in curly braces in the string. These are replaced by \n",
    "                                                # values supplied in the .format function after the string"
   ]
  },
  {
   "cell_type": "code",
   "execution_count": 30,
   "metadata": {
    "collapsed": false
   },
   "outputs": [
    {
     "name": "stdout",
     "output_type": "stream",
     "text": [
      "0------h\n",
      "1------e\n",
      "2------l\n",
      "3------l\n",
      "4------o\n"
     ]
    }
   ],
   "source": [
    "#alternative to the previous examples. The integers have to be changed to strings using the str() function in order to allow\n",
    "for i, letter in enumerate(n):     #concatenation\n",
    "    print(str(i) + \"------\" + letter)"
   ]
  },
  {
   "cell_type": "code",
   "execution_count": 34,
   "metadata": {
    "collapsed": false
   },
   "outputs": [
    {
     "name": "stdout",
     "output_type": "stream",
     "text": [
      "num    word\n",
      "---------------\n",
      "8    some words\n",
      "9    some words\n",
      "10    some words\n",
      "11    some words\n"
     ]
    }
   ],
   "source": [
    "print(\"num    word\")\n",
    "print('-'*15)\n",
    "for i in range(8,12):\n",
    "    print('{0}    some words'.format(i))"
   ]
  },
  {
   "cell_type": "code",
   "execution_count": 35,
   "metadata": {
    "collapsed": false
   },
   "outputs": [
    {
     "name": "stdout",
     "output_type": "stream",
     "text": [
      "num    word\n",
      "---------------\n",
      " 8    some words\n",
      " 9    some words\n",
      "10    some words\n",
      "11    some words\n"
     ]
    }
   ],
   "source": [
    "# Make the formatting of previous example look nice using {0:2}. Using {0:2} will align the numbers 8 and 9 to the right\n",
    "print(\"num    word\")\n",
    "print('-'*15)\n",
    "for i in range(8,12):\n",
    "    print('{0:2}    some words'.format(i))"
   ]
  },
  {
   "cell_type": "code",
   "execution_count": 37,
   "metadata": {
    "collapsed": false
   },
   "outputs": [
    {
     "name": "stdout",
     "output_type": "stream",
     "text": [
      "[12, 3, 41, 19, 7, 20]\n",
      "[3, 7, 12, 19, 20, 41]\n"
     ]
    }
   ],
   "source": [
    "# the sorted() function will sorted numbers in ascending order\n",
    "lotto = [12, 3, 41, 19, 7, 20]\n",
    "print(lotto)\n",
    "sorted_lotto = sorted(lotto)\n",
    "print(sorted_lotto)"
   ]
  },
  {
   "cell_type": "code",
   "execution_count": 38,
   "metadata": {
    "collapsed": false
   },
   "outputs": [
    {
     "name": "stdout",
     "output_type": "stream",
     "text": [
      "Your lotto number is 3\n",
      "Your lotto number is 7\n",
      "Your lotto number is 12\n",
      "Your lotto number is 19\n",
      "Your lotto number is 20\n",
      "Your lotto number is 41\n"
     ]
    }
   ],
   "source": [
    "for i in sorted_lotto:\n",
    "    print(\"Your lotto number is {0}\".format(i))"
   ]
  },
  {
   "cell_type": "code",
   "execution_count": 39,
   "metadata": {
    "collapsed": false
   },
   "outputs": [
    {
     "name": "stdout",
     "output_type": "stream",
     "text": [
      "Your lotto number is 3\n",
      "Your lotto number is 7\n",
      "Your lotto number is 12\n",
      "Your lotto number is 19\n",
      "Your lotto number is 20\n",
      "Your lotto number is 41\n"
     ]
    }
   ],
   "source": [
    "for i in sorted_lotto:\n",
    "    print(\"Your lotto number is %d\" % (i))"
   ]
  },
  {
   "cell_type": "code",
   "execution_count": 42,
   "metadata": {
    "collapsed": false
   },
   "outputs": [
    {
     "name": "stdout",
     "output_type": "stream",
     "text": [
      "Number 1 is 3\n",
      "Number 2 is 7\n",
      "Number 3 is 12\n",
      "Number 4 is 19\n",
      "Number 5 is 20\n",
      "Number 6 is 41\n"
     ]
    }
   ],
   "source": [
    "for i, num in enumerate(sorted_lotto):\n",
    "    print(\"Number {0} is {1}\".format(i + 1, num)) #enumerate starts at 0, so to make it start from 1, + 1 must be added in the\n",
    "                                                    # .format function"
   ]
  },
  {
   "cell_type": "code",
   "execution_count": 43,
   "metadata": {
    "collapsed": false
   },
   "outputs": [
    {
     "name": "stdout",
     "output_type": "stream",
     "text": [
      "Number 1 is 3\n",
      "Number 2 is 7\n",
      "Number 3 is 12\n",
      "Number 4 is 19\n",
      "Number 5 is 20\n",
      "Number 6 is 41\n"
     ]
    }
   ],
   "source": [
    "for i, num in enumerate(sorted_lotto):\n",
    "    print(\"Number %d is %d\" % (i + 1, num))"
   ]
  },
  {
   "cell_type": "code",
   "execution_count": 44,
   "metadata": {
    "collapsed": false
   },
   "outputs": [
    {
     "name": "stdout",
     "output_type": "stream",
     "text": [
      "Number 1 is 3\n",
      "Number 2 is 7\n",
      "Number 3 is 12\n",
      "Number 4 is 19\n",
      "Number 5 is 20\n",
      "Number 6 is 41\n"
     ]
    }
   ],
   "source": [
    "# %r (raw) can be used if you don't know what type of data to expect\n",
    "for i, num in enumerate(sorted_lotto):\n",
    "    print(\"Number %r is %r\" % (i + 1, num))"
   ]
  },
  {
   "cell_type": "code",
   "execution_count": 47,
   "metadata": {
    "collapsed": false
   },
   "outputs": [
    {
     "name": "stdout",
     "output_type": "stream",
     "text": [
      " 1\n",
      " 2\n",
      " 3\n",
      " 4\n",
      " 5\n",
      " 6\n",
      " 7\n",
      " 8\n",
      " 9\n",
      "10\n",
      "11\n",
      "12\n",
      "13\n",
      "14\n",
      "15\n",
      "16\n",
      "17\n",
      "18\n",
      "19\n",
      "20\n"
     ]
    }
   ],
   "source": [
    "# range() function is used here to provide a range of numbers from 1 to 20\n",
    "for i in range(1,21):\n",
    "    print(\"{0:2}\".format(i)) # numbers 1 to 9 are right aligned with numbers 10 to 20 using {0:2}"
   ]
  },
  {
   "cell_type": "code",
   "execution_count": null,
   "metadata": {
    "collapsed": true
   },
   "outputs": [],
   "source": []
  }
 ],
 "metadata": {
  "kernelspec": {
   "display_name": "Python 3",
   "language": "python",
   "name": "python3"
  },
  "language_info": {
   "codemirror_mode": {
    "name": "ipython",
    "version": 3
   },
   "file_extension": ".py",
   "mimetype": "text/x-python",
   "name": "python",
   "nbconvert_exporter": "python",
   "pygments_lexer": "ipython3",
   "version": "3.6.0"
  }
 },
 "nbformat": 4,
 "nbformat_minor": 2
}
