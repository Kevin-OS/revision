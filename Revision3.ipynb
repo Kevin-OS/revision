{
 "cells": [
  {
   "cell_type": "code",
   "execution_count": 1,
   "metadata": {
    "collapsed": false
   },
   "outputs": [
    {
     "name": "stdout",
     "output_type": "stream",
     "text": [
      "9.4\n"
     ]
    }
   ],
   "source": [
    "# define a function that gets the average of a list of numbers\n",
    "def average(numbers):\n",
    "    return(sum(numbers)/len(numbers))\n",
    "\n",
    "nums = [5, 6, 12, 9, 15]\n",
    "\n",
    "print(average(nums))"
   ]
  },
  {
   "cell_type": "code",
   "execution_count": 3,
   "metadata": {
    "collapsed": false
   },
   "outputs": [
    {
     "name": "stdout",
     "output_type": "stream",
     "text": [
      "6.666666666666667\n"
     ]
    }
   ],
   "source": [
    "# another way\n",
    "def average(numbers):\n",
    "    total = 0\n",
    "    for i in numbers:\n",
    "        total += i\n",
    "    return total / len(numbers)\n",
    "\n",
    "print(average([1,7,12]))"
   ]
  },
  {
   "cell_type": "code",
   "execution_count": null,
   "metadata": {
    "collapsed": true
   },
   "outputs": [],
   "source": []
  }
 ],
 "metadata": {
  "kernelspec": {
   "display_name": "Python 3",
   "language": "python",
   "name": "python3"
  },
  "language_info": {
   "codemirror_mode": {
    "name": "ipython",
    "version": 3
   },
   "file_extension": ".py",
   "mimetype": "text/x-python",
   "name": "python",
   "nbconvert_exporter": "python",
   "pygments_lexer": "ipython3",
   "version": "3.6.0"
  }
 },
 "nbformat": 4,
 "nbformat_minor": 2
}
